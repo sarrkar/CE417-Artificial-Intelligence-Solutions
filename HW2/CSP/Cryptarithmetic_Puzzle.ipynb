{
 "cells": [
  {
   "cell_type": "markdown",
   "metadata": {
    "id": "vrUo6bi-_ZX4"
   },
   "source": [
    "<img src='http://www-scf.usc.edu/~ghasemig/images/sharif.png' alt=\"SUT logo\" width=200 height=200 align=left class=\"saturate\" >\n",
    "\n",
    "<br>\n",
    "<font>\n",
    "<div dir=ltr align=center>\n",
    "<font color=0F5298 size=6>\n",
    "    Artificial Intelligence <br><br>\n",
    "<font color=2565AE size=5>\n",
    "    Computer Engineering Department <br>\n",
    "    Spring 2023<br><br>\n",
    "<font color=3C99D size=5>\n",
    "    Practical Assignment 2 - CSP <br>\n",
    "<font color=696880 size=3>\n",
    "\n",
    "____"
   ]
  },
  {
   "cell_type": "markdown",
   "metadata": {
    "id": "mu79vDLI_k7L"
   },
   "source": [
    "# Personal Data"
   ]
  },
  {
   "cell_type": "code",
   "execution_count": 1,
   "metadata": {
    "id": "DSNViWnH_XIG"
   },
   "outputs": [],
   "source": [
    "# Set your student number\n",
    "student_number = '401011151'\n",
    "name = 'Sara'\n",
    "last_name = 'Karimi'"
   ]
  },
  {
   "cell_type": "markdown",
   "metadata": {
    "id": "aDsTP-H5_pgG"
   },
   "source": [
    "# Rules\n",
    "- Make sure that all of your cells can be run perfectly. "
   ]
  },
  {
   "cell_type": "markdown",
   "metadata": {
    "id": "gvccZ5rb_pcZ"
   },
   "source": [
    "# Q1: Cryptarithmetic Puzzle (100 Points)"
   ]
  },
  {
   "cell_type": "markdown",
   "metadata": {
    "id": "A41VTSjN_9Zo"
   },
   "source": [
    "<font size=4>\n",
    "Author: Yalda Shabanzadeh\n",
    "<br/>\n",
    "<font color=red>\n",
    "Please run all the cells.\n",
    "</font>\n",
    "</font>\n",
    "<br/>\n",
    "</div>"
   ]
  },
  {
   "cell_type": "markdown",
   "metadata": {
    "id": "zpYUslP2AMs3"
   },
   "source": [
    "## Problem Definition\n",
    "\n",
    "The Cryptarithmetic Puzzle is a puzzle where the digits of some numbers are replaced with letters to make a mathematical equation. Each letter represents a unique digit from 0 to 9. The puzzle has the following constraints:\n",
    "\n",
    "- Each letter can be replaced by a digit from 0 to 9, but no digit can be used twice.\n",
    "- Each letter must be replaced by the same digit throughout the puzzle.\n",
    "- The leftmost digit of each number cannot be zero.\n",
    "\n",
    "### Example\n",
    "Here's an example puzzle:\n",
    "\n",
    "```\n",
    "  TWO\n",
    "+ TWO\n",
    "------\n",
    " FOUR\n",
    "```\n",
    "\n",
    "In this puzzle, we need to replace each letter with a digit from 0 to 9 to make the equation true."
   ]
  },
  {
   "cell_type": "markdown",
   "metadata": {
    "id": "SjwFN8MOCrjg"
   },
   "source": [
    "## Note\n",
    "- You can use any arbitrary CSP algorithm to solve this question.\n",
    "- Allowed algorithms:\n",
    "BackTracking, AC3, AC3-LCV, AC3-MRV, AC3-LCV-MRV"
   ]
  },
  {
   "cell_type": "markdown",
   "metadata": {
    "id": "ALmhQacCGYDb"
   },
   "source": [
    "> Explain how you consider this problem as a CSP (5 points)\n",
    "\n",
    "\n",
    "<font color='cyan'>\n",
    "if we consider each of the letters as variables in the inputs, we can model the problem by assigning multiple constraints on each of the variables including unary constraint of not being zero on first letters and multiary constraint on variables on same column to make their sum match the result. reaching an assignment that satisfies all these constraints is the goal and we don't need any follow-up optimization to the assignments so using CSP is ideal for the problem.\n",
    "</font>"
   ]
  },
  {
   "cell_type": "markdown",
   "metadata": {},
   "source": [
    "## Input\n",
    "  - The first line is $n$ (count of strings to add up together).\n",
    "  - In the following $n$ lines, the $i$ th line ($1 \\le i \\le N$) is $i$ th string.\n",
    "  - In the next line, $result$, the sum of strings is given.\n",
    "  - **Note**: your code should be case insensitive to pass the tests (there is no difference between `send` and `SEND`).\n",
    " \n",
    "$$1 \\le N \\le 50$$\n",
    "\n",
    "### Sample Input\n",
    "This sample describes the previous example.\n",
    "```\n",
    "2\n",
    "TWO\n",
    "TWO\n",
    "FOUR\n",
    "```"
   ]
  },
  {
   "cell_type": "markdown",
   "metadata": {},
   "source": [
    "## Output\n",
    "for each given charachter as input, print it's corresponding number:\n",
    "  - **Note**: order is not important.\n",
    "\n",
    "### Sample Output\n",
    "The solution to the example above is:\n",
    "```\n",
    "F 1\n",
    "O 4\n",
    "R 8\n",
    "T 7\n",
    "U 6\n",
    "W 3\n",
    "```"
   ]
  },
  {
   "cell_type": "markdown",
   "metadata": {
    "id": "SSHhI4xLVvMu"
   },
   "source": [
    "## Your code\n",
    "**Note:** It's OK to change the signature for the given functions and the given structure is just a suggestion to help you with the implementation. If you tried to use another structure, the total score of that part won't be changed."
   ]
  },
  {
   "cell_type": "markdown",
   "metadata": {
    "id": "WQtGcfUxP1UJ"
   },
   "source": [
    "### Define Constraint (20 points)\n",
    "\n",
    "In this part, write the satisfaction part of the constraint of this problem.\n",
    "You can add any argument you want to `__init__` function.\n",
    "\n",
    "\n",
    "- Check if all letters have a different value.\n",
    "- Check if the first letter of each word is not 0.\n",
    "- Check if the sum of the values of the letters \n",
    "  in the words is equal to the value of the letters\n",
    "  in the result word. (Note that if the assignment \n",
    "  does not have all variables, you can not check this constraint, so return true in this case)\n",
    "        "
   ]
  },
  {
   "cell_type": "code",
   "execution_count": 2,
   "metadata": {
    "id": "KF0ZneijGU0F"
   },
   "outputs": [],
   "source": [
    "from typing import Dict, List\n",
    "\n",
    "\n",
    "class PuzzleConstraint:\n",
    "    def __init__(self, \n",
    "                 variables: List[str],\n",
    "                 operands: List[str],\n",
    "                 result: str) -> None:\n",
    "        self.variables = variables\n",
    "        self.operands = operands\n",
    "        self.expected_result = result\n",
    "\n",
    "\n",
    "    def satisfied(self, assignment: Dict[str, int]) -> bool:\n",
    "        \"\"\"\n",
    "        :param assignment: dict[str, int] a dictionary of variable (str)\n",
    "                           and it's correspond value (int)\n",
    "        :return: check if the assignment satisfies the constraints\n",
    "        \"\"\"\n",
    "        # Check if all letters have a different value\n",
    "        if len(assignment.keys()) != len(set(assignment.values())):\n",
    "            return False\n",
    "        \n",
    "        # Check if the first letter of the word is not 0.\n",
    "        for op in self.operands:\n",
    "            if assignment[op[0]] == 0:\n",
    "                return False\n",
    "        if assignment[self.expected_result[0]] == 0:\n",
    "            return False\n",
    "        \n",
    "        # Check if the sum of the values of the letters \n",
    "        # in the words is equal to the value of the letters\n",
    "        # in the result word.\n",
    "        if len(assignment) < len(self.variables):\n",
    "            return False\n",
    "        operands = []\n",
    "        for op in self.operands:\n",
    "            operand = 0\n",
    "            for var in op:\n",
    "                operand = operand * 10 + assignment[var]\n",
    "            operands.append(operand)\n",
    "        result = 0\n",
    "        for var in self.expected_result:\n",
    "            result = result * 10 + assignment[var]\n",
    "        if sum(operands) != result:\n",
    "            return False\n",
    "        return True"
   ]
  },
  {
   "cell_type": "markdown",
   "metadata": {
    "id": "wH4wlG0NS62E"
   },
   "source": [
    "### Define a CSP class (50 points)\n",
    "\n",
    "You can add functions you'll need to this class."
   ]
  },
  {
   "cell_type": "code",
   "execution_count": 3,
   "metadata": {
    "id": "8V_OGeSoTMi0"
   },
   "outputs": [],
   "source": [
    "class CSP:\n",
    "    def __init__(self, variables, domains) -> None:\n",
    "        self.variables = variables  # variables to be constrained\n",
    "        self.domains = domains      # domain of each variable\n",
    "        self.constraints = {}\n",
    "        for variable in self.variables:\n",
    "            self.constraints[variable] = []\n",
    "            if variable not in self.domains:\n",
    "                raise LookupError(\"Every variable should have a domain assigned to it.\")\n",
    "\n",
    "    def add_constraint(self, constraint: PuzzleConstraint) -> None:\n",
    "        \"\"\"\n",
    "        Add a constraint to the problem \n",
    "        :param constraint: PuzzleConstraint\n",
    "        :return: None\n",
    "        \"\"\"\n",
    "        self.constraint = constraint\n",
    "\n",
    "    def consistent(self, assignment: Dict[str, int]) -> bool:\n",
    "        \"\"\"\n",
    "        Check if the value assignment is consistent\n",
    "        :param variable: str\n",
    "        :param assignment: dict[str, int] a dictionary of variable (str)\n",
    "                           and it's correspond value (int)\n",
    "        \"\"\"\n",
    "        return self.constraint.satisfied(assignment)\n",
    "\n",
    "    def backtracking_search(self, assignment={}):\n",
    "        unassigned_vars = set(self.variables) - set(assignment.keys())\n",
    "        if len(unassigned_vars) == 0:\n",
    "            return self.consistent(assignment)\n",
    "        var = sorted(list(unassigned_vars))[0]\n",
    "        for val in self.domains[var]:\n",
    "            assignment[var] = val\n",
    "            ok = self.backtracking_search(assignment)\n",
    "            if ok:\n",
    "                return True\n",
    "        del assignment[var]\n",
    "        return False"
   ]
  },
  {
   "cell_type": "markdown",
   "metadata": {
    "id": "aZfWJAEdX48l"
   },
   "source": [
    "### Build CSP and solve it! (20 points)\n",
    "\n",
    "complete these functions for testing."
   ]
  },
  {
   "cell_type": "code",
   "execution_count": 4,
   "metadata": {
    "id": "E9aF198i_614"
   },
   "outputs": [],
   "source": [
    "def get_problem(operands: List[str], result: str) -> CSP:\n",
    "    \"\"\"\n",
    "    Define the CSP problem\n",
    "    \n",
    "    :param operands: List[str]\n",
    "    :param result: str\n",
    "    :return: return the CSP\n",
    "    \"\"\"\n",
    "    variables = set()\n",
    "    for op in operands:\n",
    "        for c in op:\n",
    "            variables.add(c)\n",
    "    for c in result:\n",
    "        variables.add(c)\n",
    "    variables = sorted(list(variables))\n",
    "    csp = CSP(variables, domains=dict([[v, [i for i in range(0, 10)]] for v in variables]))\n",
    "    csp.add_constraint(PuzzleConstraint(variables, operands, result))\n",
    "    return csp"
   ]
  },
  {
   "cell_type": "code",
   "execution_count": 5,
   "metadata": {},
   "outputs": [],
   "source": [
    "def backtracking_search(csp: CSP):\n",
    "    \"\"\"\n",
    "    solve CSP\n",
    "\n",
    "    :param csp: CSP\n",
    "    :return: return the founded solution\n",
    "    \"\"\"\n",
    "    sol = {}\n",
    "    ok = csp.backtracking_search(sol)\n",
    "    if ok:\n",
    "        return '\\n'.join(sorted([f'{k.upper()} {sol[k]}' for k in sol])) + '\\n'\n",
    "    return None"
   ]
  },
  {
   "cell_type": "markdown",
   "metadata": {
    "id": "69hRH8xlYvK9"
   },
   "source": [
    "## Test\n",
    "\n",
    "**Do not change the following cell.**\n",
    "\n",
    "**Note**: 5 tests will be added after deadline. (5 points)."
   ]
  },
  {
   "cell_type": "code",
   "execution_count": 6,
   "metadata": {
    "colab": {
     "base_uri": "https://localhost:8080/",
     "height": 236
    },
    "id": "0tOYbhBJZXeV",
    "outputId": "61338018-08fc-4084-d809-8c8872fc7fd4",
    "scrolled": false
   },
   "outputs": [
    {
     "name": "stdout",
     "output_type": "stream",
     "text": [
      "Score = 100.0%\n"
     ]
    }
   ],
   "source": [
    "import helper.test_q2 as q2\n",
    "import time\n",
    "\n",
    "TIME_LIMIT = 3\n",
    "\n",
    "tests = q2.get_all_tests(prefix='q2_')\n",
    "tests_passed = 0\n",
    "for test in tests:\n",
    "    n, n_next_lines, result = q2.scan_test_input(test)\n",
    "    csp = get_problem(n_next_lines, result)\n",
    "    start_time = time.time()\n",
    "    result = backtracking_search(csp)\n",
    "    total_time = time.time() - start_time\n",
    "    if q2.is_result_valid(test, result) and total_time < TIME_LIMIT:\n",
    "        tests_passed += 1\n",
    "    else:\n",
    "        print(f'test {test} failed. time elapsed= {total_time}')\n",
    "print(f'Score = {tests_passed / len(tests) * 100}%')"
   ]
  }
 ],
 "metadata": {
  "colab": {
   "provenance": []
  },
  "kernelspec": {
   "display_name": "Python 3 (ipykernel)",
   "language": "python",
   "name": "python3"
  },
  "language_info": {
   "codemirror_mode": {
    "name": "ipython",
    "version": 3
   },
   "file_extension": ".py",
   "mimetype": "text/x-python",
   "name": "python",
   "nbconvert_exporter": "python",
   "pygments_lexer": "ipython3",
   "version": "3.10.1"
  }
 },
 "nbformat": 4,
 "nbformat_minor": 1
}
