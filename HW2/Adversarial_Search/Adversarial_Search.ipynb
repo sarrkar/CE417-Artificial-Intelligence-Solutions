{
 "cells": [
  {
   "cell_type": "markdown",
   "metadata": {},
   "source": [
    "<img src='http://www-scf.usc.edu/~ghasemig/images/sharif.png' alt=\"SUT logo\" width=300 height=300 align=left class=\"saturate\" >\n",
    "\n",
    "<br>\n",
    "<font>\n",
    "<div dir=ltr align=center>\n",
    "<font color=0F5298 size=7>\n",
    "    Artificial Intelligence <br>\n",
    "<font color=2565AE size=5>\n",
    "    Computer Engineering Department <br>\n",
    "    Spring 2023<br>\n",
    "<font color=3C99D size=5>\n",
    "    Practical Assignment 2 - Adversarial Search <br>\n",
    "<font color=696880 size=4>\n",
    "    Amirmohammad Isazadeh\n",
    "\n",
    "____"
   ]
  },
  {
   "cell_type": "markdown",
   "metadata": {},
   "source": [
    "# Personal Data"
   ]
  },
  {
   "cell_type": "code",
   "execution_count": 1,
   "metadata": {
    "collectable": true,
    "execution": {
     "iopub.execute_input": "2021-10-01T16:01:36.762477Z",
     "iopub.status.busy": "2021-10-01T16:01:36.762155Z",
     "iopub.status.idle": "2021-10-01T16:01:36.764025Z",
     "shell.execute_reply": "2021-10-01T16:01:36.763754Z"
    }
   },
   "outputs": [],
   "source": [
    "# Set your student number\n",
    "student_number = '401011151'\n",
    "Name = 'Sara'\n",
    "Last_Name = 'Karimi'"
   ]
  },
  {
   "cell_type": "markdown",
   "metadata": {},
   "source": [
    "# Rules"
   ]
  },
  {
   "cell_type": "markdown",
   "metadata": {},
   "source": [
    "- You should upload just your Player.py file."
   ]
  },
  {
   "cell_type": "markdown",
   "metadata": {},
   "source": [
    "## Libraries"
   ]
  },
  {
   "cell_type": "code",
   "execution_count": 2,
   "metadata": {},
   "outputs": [
    {
     "name": "stdout",
     "output_type": "stream",
     "text": [
      "pygame 2.1.2 (SDL 2.0.18, Python 3.10.1)\n",
      "Hello from the pygame community. https://www.pygame.org/contribute.html\n"
     ]
    }
   ],
   "source": [
    "import pygame"
   ]
  },
  {
   "cell_type": "markdown",
   "metadata": {},
   "source": [
    "# Q2: Adversarial Search (100 Points)"
   ]
  },
  {
   "cell_type": "markdown",
   "metadata": {},
   "source": [
    "<font size=4>\n",
    "Author: Amirmohammad Isazadeh\n",
    "<br/>\n",
    "<font color=red>\n",
    "Please run all the cells.\n",
    "</font>\n",
    "</font>\n",
    "<br/>\n",
    "</div>"
   ]
  },
  {
   "cell_type": "markdown",
   "metadata": {
    "collectable": true
   },
   "source": [
    "In this problem you must implement a minimax agent to play a game known as Pentago."
   ]
  },
  {
   "cell_type": "markdown",
   "metadata": {},
   "source": [
    "You can see how to play pentago here:   \n",
    "https://www.youtube.com/watch?v=8DgUsC_X0QI\n",
    "\n",
    "extra rules:   \n",
    "If a player rotate a board and both players connect 5 marble, the other player wins."
   ]
  },
  {
   "cell_type": "markdown",
   "metadata": {},
   "source": [
    "The game has already been implemented for you. You should implement two things:  \n",
    "Implement the two minimax player logic in _Player.py_ . For the first player you must create the minimax tree until you reach a desired depth or a cutoff state. Then you must use an evaluation function to score the nodes and find the next best move. For the second player you must do all the above however when you are playing as max their is a probability that you will choose a random move instead of the best move.\n",
    "\n",
    "*** Note that, the result from the game is a part of your score and a small portion of your score is evaluated based on the quality of your code.\n",
    "\n",
    "We will use the commented function in main.py to grade your code. You can also test your code by playing with it or using a random player.   \n",
    "You can play the game with a random player by running the next cell. Upon running it a GUI of the game will open."
   ]
  },
  {
   "cell_type": "code",
   "execution_count": 3,
   "metadata": {
    "collectable": true
   },
   "outputs": [
    {
     "name": "stdout",
     "output_type": "stream",
     "text": [
      "player1 is red. player2 is yellow.\n",
      "player2 goes first.\n",
      "player2 move:\n",
      "[[4, 0], 4, 'anticlockwise']\n",
      "player1 move:\n",
      "[[4, 4], 1, 'skip']\n",
      "player2 move:\n",
      "[[1, 4], 1, 'clockwise']\n",
      "player1 move:\n",
      "[[5, 1], 4, 'clockwise']\n",
      "player2 move:\n",
      "[[1, 2], 1, 'skip']\n",
      "player1 move:\n",
      "[[2, 2], 3, 'skip']\n",
      "player2 move:\n",
      "[[0, 1], 3, 'anticlockwise']\n",
      "player1 move:\n",
      "[[3, 3], 2, 'clockwise']\n",
      "player2 move:\n",
      "[[1, 3], 1, 'clockwise']\n",
      "player1 move:\n",
      "[[5, 4], 3, 'clockwise']\n",
      "player2 move:\n",
      "[[5, 5], 2, 'clockwise']\n",
      "player1 move:\n",
      "[[0, 5], 2, 'anticlockwise']\n",
      "player2 move:\n",
      "[[3, 5], 4, 'anticlockwise']\n",
      "player1 move:\n",
      "[[0, 5], 2, 'skip']\n",
      "player2 move:\n",
      "[[1, 0], 4, 'anticlockwise']\n",
      "player1 move:\n",
      "[[0, 4], 2, 'anticlockwise']\n",
      "player2 move:\n",
      "[[0, 2], 3, 'anticlockwise']\n",
      "player1 move:\n",
      "[[4, 5], 3, 'anticlockwise']\n",
      "player2 move:\n",
      "[[5, 0], 4, 'skip']\n",
      "player1 move:\n",
      "[[0, 0], 4, 'clockwise']\n",
      "player2 move:\n",
      "[[1, 5], 2, 'clockwise']\n",
      "player1 move:\n",
      "[[4, 0], 3, 'anticlockwise']\n",
      "player2 move:\n",
      "[[0, 1], 4, 'clockwise']\n",
      "player1 move:\n",
      "[[2, 3], 1, 'clockwise']\n",
      "player2 move:\n",
      "[[1, 5], 1, 'clockwise']\n",
      "player1 move:\n",
      "[[4, 1], 4, 'clockwise']\n",
      "player2 move:\n",
      "[[4, 5], 2, 'clockwise']\n",
      "player1 move:\n",
      "[[4, 2], 3, 'clockwise']\n",
      "player2 move:\n",
      "[[3, 2], 4, 'anticlockwise']\n",
      "player1 move:\n",
      "[[3, 0], 3, 'skip']\n",
      "player2 move:\n",
      "[[0, 0], 3, 'skip']\n",
      "player1 move:\n",
      "[[2, 3], 1, 'anticlockwise']\n",
      "player2 move:\n",
      "[[4, 5], 4, 'skip']\n",
      "player1 move:\n",
      "[[5, 2], 2, 'skip']\n",
      "player2 move:\n",
      "[[5, 3], 4, 'clockwise']\n",
      "player1 move:\n",
      "[[1, 1], 4, 'clockwise']\n",
      "PLAYER 2 WINS!\n"
     ]
    },
    {
     "data": {
      "text/plain": [
       "2"
      ]
     },
     "execution_count": 3,
     "metadata": {},
     "output_type": "execute_result"
    }
   ],
   "source": [
    "from Game import Game\n",
    "from Player import HumanPlayer, RandomPlayer, MiniMaxPlayer, MiniMaxProbPlayer\n",
    "\n",
    "\n",
    "# example 1:\n",
    "player1 = RandomPlayer(1)\n",
    "player2 = RandomPlayer(2)\n",
    "\n",
    "# example 2:\n",
    "# player1 = MiniMaxPlayer(1, depth=5)\n",
    "# player2 = MiniMaxProbPlayer(2, depth=5)\n",
    "\n",
    "game = Game(player1, player2)\n",
    "game.start_game()"
   ]
  },
  {
   "cell_type": "markdown",
   "metadata": {},
   "source": [
    "**Complete  the play function of MiniMaxPlayer and MiniMaxProbPlayer in _player.py_ and then run the following cells to test your implementation.**  "
   ]
  },
  {
   "cell_type": "code",
   "execution_count": 4,
   "metadata": {},
   "outputs": [
    {
     "name": "stdout",
     "output_type": "stream",
     "text": [
      "player1 is red. player2 is yellow.\n",
      "player2 goes first.\n",
      "player2 move:\n",
      "[[1, 0], 4, 'skip']\n",
      "player1 move:\n",
      "[[-1, -1], -1, -1]\n",
      "player2 move:\n",
      "[[3, 2], 2, 'anticlockwise']\n",
      "player1 move:\n",
      "[[-1, -1], -1, -1]\n"
     ]
    },
    {
     "ename": "AssertionError",
     "evalue": "",
     "output_type": "error",
     "traceback": [
      "\u001b[1;31m---------------------------------------------------------------------------\u001b[0m",
      "\u001b[1;31mAssertionError\u001b[0m                            Traceback (most recent call last)",
      "Cell \u001b[1;32mIn[4], line 24\u001b[0m\n\u001b[0;32m     21\u001b[0m     \u001b[38;5;28mprint\u001b[39m(\u001b[38;5;124mf\u001b[39m\u001b[38;5;124m'\u001b[39m\u001b[38;5;124mminimax prob player vs random player win=\u001b[39m\u001b[38;5;132;01m{\u001b[39;00mwin2\u001b[38;5;132;01m}\u001b[39;00m\u001b[38;5;124m, lose=\u001b[39m\u001b[38;5;132;01m{\u001b[39;00mlose2\u001b[38;5;132;01m}\u001b[39;00m\u001b[38;5;124m, draw=\u001b[39m\u001b[38;5;132;01m{\u001b[39;00mdraw2\u001b[38;5;132;01m}\u001b[39;00m\u001b[38;5;124m'\u001b[39m)\n\u001b[0;32m     22\u001b[0m     \u001b[38;5;28mprint\u001b[39m(\u001b[38;5;124mf\u001b[39m\u001b[38;5;124m'\u001b[39m\u001b[38;5;124mscore: \u001b[39m\u001b[38;5;132;01m{\u001b[39;00mwin1\u001b[38;5;250m \u001b[39m\u001b[38;5;241m+\u001b[39m\u001b[38;5;250m \u001b[39mwin2\u001b[38;5;132;01m}\u001b[39;00m\u001b[38;5;124m'\u001b[39m)\n\u001b[1;32m---> 24\u001b[0m \u001b[43mmark\u001b[49m\u001b[43m(\u001b[49m\u001b[43m)\u001b[49m\n",
      "Cell \u001b[1;32mIn[4], line 18\u001b[0m, in \u001b[0;36mmark\u001b[1;34m()\u001b[0m\n\u001b[0;32m     16\u001b[0m player2 \u001b[38;5;241m=\u001b[39m RandomPlayer(\u001b[38;5;241m2\u001b[39m)\n\u001b[0;32m     17\u001b[0m player3 \u001b[38;5;241m=\u001b[39m MiniMaxProbPlayer(\u001b[38;5;241m2\u001b[39m, depth\u001b[38;5;241m=\u001b[39m\u001b[38;5;241m3\u001b[39m, prob_stochastic\u001b[38;5;241m=\u001b[39m\u001b[38;5;241m0.8\u001b[39m)\n\u001b[1;32m---> 18\u001b[0m win1, lose1, draw1 \u001b[38;5;241m=\u001b[39m \u001b[43mget_game_result\u001b[49m\u001b[43m(\u001b[49m\u001b[43mplayer1\u001b[49m\u001b[43m,\u001b[49m\u001b[43m \u001b[49m\u001b[43mplayer2\u001b[49m\u001b[43m,\u001b[49m\u001b[43m \u001b[49m\u001b[38;5;241;43m10\u001b[39;49m\u001b[43m)\u001b[49m\n\u001b[0;32m     19\u001b[0m win2, lose2, draw2 \u001b[38;5;241m=\u001b[39m get_game_result(player3, player2, \u001b[38;5;241m10\u001b[39m)\n\u001b[0;32m     20\u001b[0m \u001b[38;5;28mprint\u001b[39m(\u001b[38;5;124mf\u001b[39m\u001b[38;5;124m'\u001b[39m\u001b[38;5;124mminimax player vs random player win=\u001b[39m\u001b[38;5;132;01m{\u001b[39;00mwin1\u001b[38;5;132;01m}\u001b[39;00m\u001b[38;5;124m, lose=\u001b[39m\u001b[38;5;132;01m{\u001b[39;00mlose1\u001b[38;5;132;01m}\u001b[39;00m\u001b[38;5;124m, draw=\u001b[39m\u001b[38;5;132;01m{\u001b[39;00mdraw1\u001b[38;5;132;01m}\u001b[39;00m\u001b[38;5;124m'\u001b[39m)\n",
      "Cell \u001b[1;32mIn[4], line 5\u001b[0m, in \u001b[0;36mget_game_result\u001b[1;34m(player1, player2, num_game)\u001b[0m\n\u001b[0;32m      3\u001b[0m \u001b[38;5;28;01mfor\u001b[39;00m i \u001b[38;5;129;01min\u001b[39;00m \u001b[38;5;28mrange\u001b[39m(num_game):\n\u001b[0;32m      4\u001b[0m     game \u001b[38;5;241m=\u001b[39m Game(player1, player2, graphics\u001b[38;5;241m=\u001b[39m\u001b[38;5;28;01mTrue\u001b[39;00m)\n\u001b[1;32m----> 5\u001b[0m     result \u001b[38;5;241m=\u001b[39m \u001b[43mgame\u001b[49m\u001b[38;5;241;43m.\u001b[39;49m\u001b[43mstart_game\u001b[49m\u001b[43m(\u001b[49m\u001b[43m)\u001b[49m\n\u001b[0;32m      6\u001b[0m     \u001b[38;5;28;01mif\u001b[39;00m result \u001b[38;5;241m==\u001b[39m \u001b[38;5;241m1\u001b[39m:\n\u001b[0;32m      7\u001b[0m         win \u001b[38;5;241m+\u001b[39m\u001b[38;5;241m=\u001b[39m \u001b[38;5;241m1\u001b[39m\n",
      "File \u001b[1;32mG:\\AI Roh\\PQ2\\Game.py:66\u001b[0m, in \u001b[0;36mGame.start_game\u001b[1;34m(self)\u001b[0m\n\u001b[0;32m     64\u001b[0m     region \u001b[38;5;241m=\u001b[39m player_move[\u001b[38;5;241m1\u001b[39m]\n\u001b[0;32m     65\u001b[0m     rotation \u001b[38;5;241m=\u001b[39m player_move[\u001b[38;5;241m2\u001b[39m]\n\u001b[1;32m---> 66\u001b[0m     \u001b[43mBoardUtility\u001b[49m\u001b[38;5;241;43m.\u001b[39;49m\u001b[43mmake_move\u001b[49m\u001b[43m(\u001b[49m\u001b[38;5;28;43mself\u001b[39;49m\u001b[38;5;241;43m.\u001b[39;49m\u001b[43mboard\u001b[49m\u001b[43m,\u001b[49m\u001b[43m \u001b[49m\u001b[43mrow\u001b[49m\u001b[43m,\u001b[49m\u001b[43m \u001b[49m\u001b[43mcol\u001b[49m\u001b[43m,\u001b[49m\u001b[43m \u001b[49m\u001b[43mregion\u001b[49m\u001b[43m,\u001b[49m\u001b[43m \u001b[49m\u001b[43mrotation\u001b[49m\u001b[43m,\u001b[49m\u001b[43m \u001b[49m\u001b[38;5;241;43m1\u001b[39;49m\u001b[43m)\u001b[49m\n\u001b[0;32m     67\u001b[0m \u001b[38;5;28;01melif\u001b[39;00m turn \u001b[38;5;241m==\u001b[39m \u001b[38;5;241m1\u001b[39m:\n\u001b[0;32m     68\u001b[0m     player_move \u001b[38;5;241m=\u001b[39m \u001b[38;5;28mself\u001b[39m\u001b[38;5;241m.\u001b[39mplayer2\u001b[38;5;241m.\u001b[39mplay(\u001b[38;5;28mself\u001b[39m\u001b[38;5;241m.\u001b[39mboard)\n",
      "File \u001b[1;32mG:\\AI Roh\\PQ2\\Board.py:46\u001b[0m, in \u001b[0;36mBoardUtility.make_move\u001b[1;34m(game_board, row, col, region, rotation, piece)\u001b[0m\n\u001b[0;32m     39\u001b[0m \u001b[38;5;129m@staticmethod\u001b[39m\n\u001b[0;32m     40\u001b[0m \u001b[38;5;28;01mdef\u001b[39;00m \u001b[38;5;21mmake_move\u001b[39m(game_board, row, col, region, rotation, piece):\n\u001b[0;32m     41\u001b[0m \u001b[38;5;250m    \u001b[39m\u001b[38;5;124;03m\"\"\"\u001b[39;00m\n\u001b[0;32m     42\u001b[0m \u001b[38;5;124;03m    make a new move on the board\u001b[39;00m\n\u001b[0;32m     43\u001b[0m \u001b[38;5;124;03m    row & col: row and column of the new move\u001b[39;00m\n\u001b[0;32m     44\u001b[0m \u001b[38;5;124;03m    piece: 1 for first player. 2 for second player\u001b[39;00m\n\u001b[0;32m     45\u001b[0m \u001b[38;5;124;03m    \"\"\"\u001b[39;00m\n\u001b[1;32m---> 46\u001b[0m     \u001b[38;5;28;01massert\u001b[39;00m game_board[row][col] \u001b[38;5;241m==\u001b[39m \u001b[38;5;241m0\u001b[39m\n\u001b[0;32m     47\u001b[0m     game_board[row][col] \u001b[38;5;241m=\u001b[39m piece\n\u001b[0;32m     48\u001b[0m     time\u001b[38;5;241m.\u001b[39msleep(\u001b[38;5;241m50\u001b[39m)\n",
      "\u001b[1;31mAssertionError\u001b[0m: "
     ]
    }
   ],
   "source": [
    "def get_game_result(player1, player2, num_game):\n",
    "    win, lose, draw = 0, 0, 0\n",
    "    for i in range(num_game):\n",
    "        game = Game(player1, player2, graphics=True)\n",
    "        result = game.start_game()\n",
    "        if result == 1:\n",
    "            win += 1\n",
    "        elif result == 2:\n",
    "            lose += 1\n",
    "        else:\n",
    "            draw += 1\n",
    "    return win, lose, draw\n",
    "        \n",
    "def mark():\n",
    "    player1 = MiniMaxPlayer(1, depth=4)\n",
    "    player2 = RandomPlayer(2)\n",
    "    player3 = MiniMaxProbPlayer(2, depth=3, prob_stochastic=0.8)\n",
    "    win1, lose1, draw1 = get_game_result(player1, player2, 10)\n",
    "    win2, lose2, draw2 = get_game_result(player3, player2, 10)\n",
    "    print(f'minimax player vs random player win={win1}, lose={lose1}, draw={draw1}')\n",
    "    print(f'minimax prob player vs random player win={win2}, lose={lose2}, draw={draw2}')\n",
    "    print(f'score: {win1 + win2}')\n",
    "\n",
    "mark()"
   ]
  },
  {
   "cell_type": "code",
   "execution_count": null,
   "metadata": {},
   "outputs": [],
   "source": []
  }
 ],
 "metadata": {
  "kernelspec": {
   "display_name": "Python 3 (ipykernel)",
   "language": "python",
   "name": "python3"
  },
  "language_info": {
   "codemirror_mode": {
    "name": "ipython",
    "version": 3
   },
   "file_extension": ".py",
   "mimetype": "text/x-python",
   "name": "python",
   "nbconvert_exporter": "python",
   "pygments_lexer": "ipython3",
   "version": "3.10.1"
  },
  "vscode": {
   "interpreter": {
    "hash": "f72c34bb2e2aa76acaec51e5a386e2497fab8a5e682a38cfc0469e5a4ec35b0f"
   }
  }
 },
 "nbformat": 4,
 "nbformat_minor": 4
}
